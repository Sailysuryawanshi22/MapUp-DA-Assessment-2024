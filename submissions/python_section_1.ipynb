{
 "cells": [
  {
   "cell_type": "markdown",
   "id": "03e245b6",
   "metadata": {},
   "source": [
    "# Question 1: Reverse List by N Elements"
   ]
  },
  {
   "cell_type": "code",
   "execution_count": null,
   "id": "89ae0056",
   "metadata": {},
   "outputs": [],
   "source": []
  },
  {
   "cell_type": "code",
   "execution_count": 1,
   "id": "cd84b9ec",
   "metadata": {},
   "outputs": [],
   "source": [
    "from typing import Dict, List\n",
    "\n",
    "import pandas as pd\n"
   ]
  },
  {
   "cell_type": "code",
   "execution_count": 2,
   "id": "c433fd4d",
   "metadata": {},
   "outputs": [
    {
     "name": "stdout",
     "output_type": "stream",
     "text": [
      "[3, 2, 1, 6, 5, 4, 8, 7]\n",
      "[2, 1, 4, 3, 5]\n",
      "[40, 30, 20, 10, 70, 60, 50]\n"
     ]
    }
   ],
   "source": [
    "def reverse_by_n_elements(lst: List[int], n: int) -> List[int]:\n",
    "    \"\"\"\n",
    "    Reverses the input list by groups of n elements.\n",
    "    \"\"\"\n",
    "    result = []  # This will hold the final reversed list\n",
    "    length = len(lst)  # Get the length of the input list\n",
    "    \n",
    "    for i in range(0, length, n):\n",
    "        group = []  # Temporary list to hold the current group\n",
    "        # Collecting the current group of up to n elements\n",
    "        for j in range(i, min(i + n, length)):\n",
    "            group.append(lst[j])\n",
    "        \n",
    "        # Manually reverse the group and append to result\n",
    "        for j in range(len(group) - 1, -1, -1):\n",
    "            result.append(group[j])\n",
    "    \n",
    "    return result\n",
    "\n",
    "# Example usage:\n",
    "if __name__ == \"__main__\":\n",
    "    print(reverse_by_n_elements([1, 2, 3, 4, 5, 6, 7, 8], 3))  \n",
    "    print(reverse_by_n_elements([1, 2, 3, 4, 5], 2))            \n",
    "    print(reverse_by_n_elements([10, 20, 30, 40, 50, 60, 70], 4))  \n"
   ]
  },
  {
   "cell_type": "code",
   "execution_count": 3,
   "id": "6ff32ce0",
   "metadata": {},
   "outputs": [
    {
     "name": "stdout",
     "output_type": "stream",
     "text": [
      "{3: ['bat', 'car', 'dog'], 4: ['bear'], 5: ['apple'], 8: ['elephant']}\n",
      "{3: ['one', 'two'], 4: ['four'], 5: ['three']}\n"
     ]
    }
   ],
   "source": [
    "def group_by_length(lst: List[str]) -> Dict[int, List[str]]:\n",
    "    \"\"\"\n",
    "    Groups the strings by their length and returns a dictionary.\n",
    "    \"\"\"\n",
    "    length_dict = {}  # Dictionary to hold lengths as keys and list of strings as values\n",
    "\n",
    "    for string in lst:\n",
    "        length = len(string)  # Get the length of the string\n",
    "        \n",
    "        # If the length is not in the dictionary, add it with an empty list\n",
    "        if length not in length_dict:\n",
    "            length_dict[length] = []\n",
    "        \n",
    "        # Append the string to the corresponding length list\n",
    "        length_dict[length].append(string)\n",
    "\n",
    "    # Sort the dictionary by keys (lengths)\n",
    "    sorted_dict = dict(sorted(length_dict.items()))\n",
    "    \n",
    "    return sorted_dict\n",
    "\n",
    "# Example usage:\n",
    "if __name__ == \"__main__\":\n",
    "    print(group_by_length([\"apple\", \"bat\", \"car\", \"elephant\", \"dog\", \"bear\"]))\n",
    "    print(group_by_length([\"one\", \"two\", \"three\", \"four\"]))"
   ]
  },
  {
   "cell_type": "markdown",
   "id": "18bfc839",
   "metadata": {},
   "source": [
    "# Question 3: Flatten a Nested Dictionary"
   ]
  },
  {
   "cell_type": "code",
   "execution_count": 4,
   "id": "dc5ecbc4",
   "metadata": {},
   "outputs": [
    {
     "name": "stdout",
     "output_type": "stream",
     "text": [
      "{'road.name': 'Highway 1', 'road.length': 350, 'road.sections[0].id': 1, 'road.sections[0].condition.pavement': 'good', 'road.sections[0].condition.traffic': 'moderate'}\n"
     ]
    }
   ],
   "source": [
    "from typing import Dict, Any\n",
    "def flatten_dict(nested_dict: Dict[str, Any], sep: str = '.') -> Dict[str, Any]:\n",
    "    \"\"\"\n",
    "    Flattens a nested dictionary into a single-level dictionary with dot notation for keys.\n",
    "    \n",
    "    :param nested_dict: The dictionary object to flatten\n",
    "    :param sep: The separator to use between parent and child keys (defaults to '.')\n",
    "    :return: A flattened dictionary\n",
    "    \"\"\"\n",
    "    flattened = {}\n",
    "\n",
    "    def flatten(current_dict: Dict[str, Any], parent_key: str = ''):\n",
    "        for key, value in current_dict.items():\n",
    "            new_key = f\"{parent_key}{sep}{key}\" if parent_key else key  # Construct new key\n",
    "\n",
    "            if isinstance(value, dict):\n",
    "                # Recursively flatten the dictionary\n",
    "                flatten(value, new_key)\n",
    "            elif isinstance(value, list):\n",
    "                # Handle lists by iterating over their elements\n",
    "                for index, item in enumerate(value):\n",
    "                    if isinstance(item, dict):\n",
    "                        flatten(item, f\"{new_key}[{index}]\")  # Flatten nested dicts in the list\n",
    "                    else:\n",
    "                        # Directly assign the value if it's not a dict\n",
    "                        flattened[f\"{new_key}[{index}]\"] = item\n",
    "            else:\n",
    "                # Assign the value to the new flattened key\n",
    "                flattened[new_key] = value\n",
    "\n",
    "    flatten(nested_dict)\n",
    "    return flattened\n",
    "\n",
    "# Example usage:\n",
    "if __name__ == \"__main__\":\n",
    "    nested_example = {\n",
    "        \"road\": {\n",
    "            \"name\": \"Highway 1\",\n",
    "            \"length\": 350,\n",
    "            \"sections\": [\n",
    "                {\n",
    "                    \"id\": 1,\n",
    "                    \"condition\": {\n",
    "                        \"pavement\": \"good\",\n",
    "                        \"traffic\": \"moderate\"\n",
    "                    }\n",
    "                }\n",
    "            ]\n",
    "        }\n",
    "    }\n",
    "    \n",
    "    result = flatten_dict(nested_example)\n",
    "    print(result)\n",
    "    "
   ]
  },
  {
   "cell_type": "markdown",
   "id": "89f6b057",
   "metadata": {},
   "source": [
    "# Question 4: Generate Unique Permutations\n"
   ]
  },
  {
   "cell_type": "code",
   "execution_count": 5,
   "id": "29a7d8b4",
   "metadata": {},
   "outputs": [
    {
     "name": "stdout",
     "output_type": "stream",
     "text": [
      "[\n",
      "    [1, 1, 2],\n",
      "    [1, 2, 1],\n",
      "    [2, 1, 1],\n",
      "]\n"
     ]
    }
   ],
   "source": [
    "def unique_permutations(nums: List[int]) -> List[List[int]]:\n",
    "    \"\"\"\n",
    "    Generate all unique permutations of a list that may contain duplicates.\n",
    "    \n",
    "    :param nums: List of integers (may contain duplicates)\n",
    "    :return: List of unique permutations\n",
    "    \"\"\"\n",
    "    def backtrack(start: int):\n",
    "        if start == len(nums):\n",
    "            results.append(nums[:])\n",
    "            return\n",
    "        \n",
    "        seen = set()\n",
    "        for i in range(start, len(nums)):\n",
    "            if nums[i] in seen:\n",
    "                continue\n",
    "            seen.add(nums[i])\n",
    "            nums[start], nums[i] = nums[i], nums[start]\n",
    "            backtrack(start + 1)\n",
    "            nums[start], nums[i] = nums[i], nums[start]  \n",
    "\n",
    "    results = []\n",
    "    nums.sort()  \n",
    "    backtrack(0)\n",
    "    return results\n",
    "\n",
    "# Example usage:\n",
    "if __name__ == \"__main__\":\n",
    "    input_list = [1, 1, 2]\n",
    "    permutations = unique_permutations(input_list)\n",
    "\n",
    "    # Print the permutations horizontally\n",
    "    print(\"[\")\n",
    "    for perm in permutations:\n",
    "        print(f\"    {perm},\")  # Indent and add a comma\n",
    "    print(\"]\")\n"
   ]
  },
  {
   "cell_type": "markdown",
   "id": "3ac452f2",
   "metadata": {},
   "source": [
    "# Question 5: Find All Dates in a Text"
   ]
  },
  {
   "cell_type": "code",
   "execution_count": 6,
   "id": "54c701fe",
   "metadata": {},
   "outputs": [
    {
     "name": "stdout",
     "output_type": "stream",
     "text": [
      "['23-08-1994', '08/23/1994', '1994.08.23']\n"
     ]
    }
   ],
   "source": [
    "import re\n",
    "def find_all_dates(text: str) -> List[str]:\n",
    "    \"\"\"\n",
    "    This function takes a string as input and returns a list of valid dates\n",
    "    in 'dd-mm-yyyy', 'mm/dd/yyyy', or 'yyyy.mm.dd' format found in the string.\n",
    "    \n",
    "    :param text: A string containing the dates in various formats.\n",
    "    :return: A list of valid dates in the formats specified.\n",
    "    \"\"\"\n",
    "    # Regular expression for the three date formats:\n",
    "    date_pattern = r\"\\b\\d{2}-\\d{2}-\\d{4}\\b|\\b\\d{2}/\\d{2}/\\d{4}\\b|\\b\\d{4}\\.\\d{2}\\.\\d{2}\\b\"\n",
    "    \n",
    "    # Find all matches in the text\n",
    "    dates = re.findall(date_pattern, text)\n",
    "    \n",
    "    return dates\n",
    "\n",
    "# Example usage:\n",
    "if __name__ == \"__main__\":\n",
    "    text = \"I was born on 23-08-1994, my friend on 08/23/1994, and another one on 1994.08.23.\"\n",
    "    result = find_all_dates(text)\n",
    "    print(result)\n",
    "   \n"
   ]
  },
  {
   "cell_type": "markdown",
   "id": "892fb2f9",
   "metadata": {},
   "source": [
    " # Question 6: Decode Polyline, Convert to DataFrame with Distances# "
   ]
  },
  {
   "cell_type": "code",
   "execution_count": 7,
   "id": "4d3d7d74",
   "metadata": {},
   "outputs": [
    {
     "ename": "ModuleNotFoundError",
     "evalue": "No module named 'polyline'",
     "output_type": "error",
     "traceback": [
      "\u001b[1;31m---------------------------------------------------------------------------\u001b[0m",
      "\u001b[1;31mModuleNotFoundError\u001b[0m                       Traceback (most recent call last)",
      "Cell \u001b[1;32mIn[7], line 1\u001b[0m\n\u001b[1;32m----> 1\u001b[0m \u001b[38;5;28;01mimport\u001b[39;00m \u001b[38;5;21;01mpolyline\u001b[39;00m\n\u001b[0;32m      2\u001b[0m \u001b[38;5;28;01mimport\u001b[39;00m \u001b[38;5;21;01mpandas\u001b[39;00m \u001b[38;5;28;01mas\u001b[39;00m \u001b[38;5;21;01mpd\u001b[39;00m\n\u001b[0;32m      3\u001b[0m \u001b[38;5;28;01mfrom\u001b[39;00m \u001b[38;5;21;01mmath\u001b[39;00m \u001b[38;5;28;01mimport\u001b[39;00m radians, sin, cos, sqrt, atan2\n",
      "\u001b[1;31mModuleNotFoundError\u001b[0m: No module named 'polyline'"
     ]
    }
   ],
   "source": [
    "import polyline\n",
    "import pandas as pd\n",
    "from math import radians, sin, cos, sqrt, atan2\n",
    "from typing import List, Tuple\n",
    "\n",
    "def haversine(lat1: float, lon1: float, lat2: float, lon2: float) -> float:\n",
    "    \"\"\"\n",
    "    Calculate the great-circle distance between two points on the Earth's surface.\n",
    "    The input coordinates are in decimal degrees, and the result is in meters.\n",
    "    \"\"\"\n",
    "    R = 6371000  # Radius of the Earth in meters\n",
    "    lat1, lon1, lat2, lon2 = map(radians, [lat1, lon1, lat2, lon2])\n",
    "    \n",
    "    dlat = lat2 - lat1\n",
    "    dlon = lon2 - lon1\n",
    "    \n",
    "    a = sin(dlat / 2)**2 + cos(lat1) * cos(lat2) * sin(dlon / 2)**2\n",
    "    c = 2 * atan2(sqrt(a), sqrt(1 - a))\n",
    "    \n",
    "    distance = R * c\n",
    "    return distance\n",
    "\n",
    "def polyline_to_dataframe(polyline_str: str) -> pd.DataFrame:\n",
    "    \"\"\"\n",
    "    Converts a polyline string into a DataFrame with latitude, longitude, and distance between consecutive points.\n",
    "    \n",
    "    Args:\n",
    "        polyline_str (str): The encoded polyline string.\n",
    "\n",
    "    Returns:\n",
    "        pd.DataFrame: A DataFrame containing latitude, longitude, and distance in meters.\n",
    "    \"\"\"\n",
    "    # Decode the polyline string into a list of (latitude, longitude) tuples\n",
    "    coordinates = polyline.decode(polyline_str)\n",
    "    \n",
    "    # Create a DataFrame with latitude and longitude columns\n",
    "    df = pd.DataFrame(coordinates, columns=['latitude', 'longitude'])\n",
    "    \n",
    "    # Initialize the distance column with 0 for the first row\n",
    "    df['distance'] = 0.0\n",
    "    \n",
    "    # Calculate the distance between successive points using the Haversine formula\n",
    "    for i in range(1, len(df)):\n",
    "        lat1, lon1 = df.loc[i - 1, 'latitude'], df.loc[i - 1, 'longitude']\n",
    "        lat2, lon2 = df.loc[i, 'latitude'], df.loc[i, 'longitude']\n",
    "        df.loc[i, 'distance'] = haversine(lat1, lon1, lat2, lon2)\n",
    "    \n",
    "    return df\n",
    "\n",
    "# Example usage:\n",
    "if __name__ == \"__main__\":\n",
    "    polyline_str = \"_p~iF~ps|U_ulLnnqC_mqNvxq`@\"\n",
    "    df = polyline_to_dataframe(polyline_str)\n",
    "    print(df)\n"
   ]
  },
  {
   "cell_type": "markdown",
   "id": "bb109df5",
   "metadata": {},
   "source": [
    "# Question 7: Matrix Rotation and Transformation"
   ]
  },
  {
   "cell_type": "code",
   "execution_count": null,
   "id": "bf0a7b74",
   "metadata": {},
   "outputs": [],
   "source": [
    "from typing import List\n",
    "\n",
    "def rotate_and_sum_matrix(matrix: List[List[int]]) -> List[List[int]]:\n",
    "    \"\"\"\n",
    "    Rotate the given matrix by 90 degrees clockwise, then replace each element with\n",
    "    the sum of all elements in the same row and column excluding itself.\n",
    "    \n",
    "    Args:\n",
    "    - matrix (List[List[int]]): 2D list representing the matrix to be transformed.\n",
    "    \n",
    "    Returns:\n",
    "    - List[List[int]]: A new 2D list representing the transformed matrix.\n",
    "    \"\"\"\n",
    "    \n",
    "    # Step 1: Rotate the matrix by 90 degrees clockwise\n",
    "    # Rotate by transposing and then reversing each row\n",
    "    n = len(matrix)\n",
    "    rotated_matrix = [[matrix[n - 1 - j][i] for j in range(n)] for i in range(n)]\n",
    "    \n",
    "    # Step 2: Replace each element with the sum of all elements in the same row and column, excluding itself\n",
    "    final_matrix = [[0] * n for _ in range(n)]  # Create a new matrix to store the result\n",
    "    \n",
    "    for i in range(n):\n",
    "        for j in range(n):\n",
    "            row_sum = sum(rotated_matrix[i])  # Sum of the row\n",
    "            col_sum = sum(rotated_matrix[k][j] for k in range(n))  # Sum of the column\n",
    "            final_matrix[i][j] = row_sum + col_sum - rotated_matrix[i][j]  # Exclude the element itself\n",
    "    \n",
    "    return final_matrix\n",
    "# Example usage:\n",
    "matrix = [[1, 2, 3],\n",
    "          [4, 5, 6],\n",
    "          [7, 8, 9]]\n",
    "\n",
    "result = rotate_and_sum_matrix(matrix)\n",
    "for row in result:\n",
    "    print(row)"
   ]
  },
  {
   "cell_type": "code",
   "execution_count": 9,
   "id": "fd7a0607",
   "metadata": {},
   "outputs": [
    {
     "name": "stdout",
     "output_type": "stream",
     "text": [
      "Column names: Index(['id', 'name', 'id_2', 'startDay', 'startTime', 'endDay', 'endTime',\n",
      "       'able2Hov2', 'able2Hov3', 'able3Hov2', 'able3Hov3', 'able5Hov2',\n",
      "       'able5Hov3', 'able4Hov2', 'able4Hov3'],\n",
      "      dtype='object')\n"
     ]
    },
    {
     "name": "stderr",
     "output_type": "stream",
     "text": [
      "C:\\Users\\Sayali Suryawanshi\\AppData\\Local\\Temp\\ipykernel_8944\\3458919232.py:20: UserWarning: Could not infer format, so each element will be parsed individually, falling back to `dateutil`. To ensure parsing is consistent and as-expected, please specify a format.\n",
      "  df['timestamp'] = pd.to_datetime(df['startTime'])  # Example: use startTime as the main timestamp\n"
     ]
    },
    {
     "name": "stdout",
     "output_type": "stream",
     "text": [
      "id       id_2    \n",
      "1014000  -1          False\n",
      "1014002  -1          False\n",
      "1014003  -1          False\n",
      "1030000  -1          False\n",
      "          1030002    False\n",
      "                     ...  \n",
      "1330016   1330006    False\n",
      "          1330008    False\n",
      "          1330010    False\n",
      "          1330012    False\n",
      "          1330014    False\n",
      "Length: 9254, dtype: bool\n"
     ]
    }
   ],
   "source": [
    "import pandas as pd\n",
    "\n",
    "def time_check(df: pd.DataFrame) -> pd.Series:\n",
    "    \"\"\"\n",
    "    Verifies the completeness of the time data by checking whether the timestamps for each unique (id, id_2) pair \n",
    "    cover a full 24-hour period and span all 7 days of the week.\n",
    "\n",
    "    Args:\n",
    "        df (pd.DataFrame): A DataFrame containing columns 'id', 'id_2', and timestamp information.\n",
    "\n",
    "    Returns:\n",
    "        pd.Series: A boolean series with a MultiIndex of (id, id_2), indicating if each pair has complete timestamps.\n",
    "    \"\"\"\n",
    "    # Print column names to verify the existence of timestamp data\n",
    "    print(\"Column names:\", df.columns)\n",
    "    \n",
    "    # Assuming the actual column names are 'startTime' and 'endTime'\n",
    "    if 'startTime' in df.columns and 'endTime' in df.columns:\n",
    "        # Combine startTime and endTime into a single column if necessary\n",
    "        df['timestamp'] = pd.to_datetime(df['startTime'])  # Example: use startTime as the main timestamp\n",
    "    else:\n",
    "        raise ValueError(\"Timestamp column or startTime/endTime not found.\")\n",
    "\n",
    "    # Extract date and time information from the timestamp\n",
    "    df['day_of_week'] = df['timestamp'].dt.dayofweek  # Monday=0, Sunday=6\n",
    "    df['time_of_day'] = df['timestamp'].dt.time\n",
    "\n",
    "    # Group by (id, id_2)\n",
    "    grouped = df.groupby(['id', 'id_2'])\n",
    "\n",
    "    # Define a function to check for 7 days and full 24-hour span\n",
    "    def check_completeness(group):\n",
    "        # Check for 7 unique days (Monday-Sunday -> 0-6)\n",
    "        days_covered = set(group['day_of_week'].unique())\n",
    "        full_week = set(range(7))  # Full week: Monday (0) to Sunday (6)\n",
    "        \n",
    "        # Check if all days of the week are covered\n",
    "        if days_covered != full_week:\n",
    "            return False\n",
    "        \n",
    "        # Check for 24-hour span each day\n",
    "        for day, day_group in group.groupby('day_of_week'):\n",
    "            times = day_group['time_of_day']\n",
    "            if times.min() > pd.Timestamp(\"00:00:00\").time() or times.max() < pd.Timestamp(\"23:59:59\").time():\n",
    "                return False\n",
    "        \n",
    "        return True\n",
    "\n",
    "    # Apply the completeness check to each group\n",
    "    result = grouped.apply(check_completeness)\n",
    "\n",
    "    return result\n",
    "\n",
    "# Example usage:\n",
    "df = pd.read_csv('dataset-1.csv')  # Load your dataset here\n",
    "result = time_check(df)\n",
    "print(result)\n"
   ]
  },
  {
   "cell_type": "code",
   "execution_count": null,
   "id": "0eece6fc",
   "metadata": {},
   "outputs": [],
   "source": []
  }
 ],
 "metadata": {
  "kernelspec": {
   "display_name": "Python 3 (ipykernel)",
   "language": "python",
   "name": "python3"
  },
  "language_info": {
   "codemirror_mode": {
    "name": "ipython",
    "version": 3
   },
   "file_extension": ".py",
   "mimetype": "text/x-python",
   "name": "python",
   "nbconvert_exporter": "python",
   "pygments_lexer": "ipython3",
   "version": "3.11.5"
  }
 },
 "nbformat": 4,
 "nbformat_minor": 5
}
